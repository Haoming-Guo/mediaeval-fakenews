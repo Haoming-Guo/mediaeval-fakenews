{
 "cells": [
  {
   "cell_type": "code",
   "execution_count": 25,
   "metadata": {},
   "outputs": [],
   "source": [
    "import json\n",
    "import numpy as np\n",
    "import matplotlib.pyplot as plt"
   ]
  },
  {
   "cell_type": "code",
   "execution_count": 13,
   "metadata": {},
   "outputs": [],
   "source": [
    "path = \"tweets/tweets/5g-corona/5g_corona_conspiracy.json\"\n",
    "corona_data = json.load(open(path))"
   ]
  },
  {
   "cell_type": "code",
   "execution_count": 15,
   "metadata": {},
   "outputs": [],
   "source": [
    "path = \"tweets/tweets/non-conspiracy/non_conspiracy.json\"\n",
    "non_data = json.load(open(path))"
   ]
  },
  {
   "cell_type": "code",
   "execution_count": 16,
   "metadata": {},
   "outputs": [],
   "source": [
    "path = \"tweets/tweets/Other-Conspiracy/other_conspiracy.json\"\n",
    "other_data = json.load(open(path))"
   ]
  },
  {
   "cell_type": "code",
   "execution_count": 18,
   "metadata": {},
   "outputs": [
    {
     "data": {
      "text/plain": [
       "(1130, 4173, 700)"
      ]
     },
     "execution_count": 18,
     "metadata": {},
     "output_type": "execute_result"
    }
   ],
   "source": [
    "len(corona_data), len(non_data), len(other_data)"
   ]
  },
  {
   "cell_type": "code",
   "execution_count": 42,
   "metadata": {},
   "outputs": [
    {
     "data": {
      "text/plain": [
       "2012.6649892163912"
      ]
     },
     "execution_count": 42,
     "metadata": {},
     "output_type": "execute_result"
    }
   ],
   "source": [
    "np.mean(np.array([int(non_data[i]['user']['created_at'].split(' ')[-1]) for i in range(len(non_data))]))"
   ]
  },
  {
   "cell_type": "code",
   "execution_count": 43,
   "metadata": {},
   "outputs": [
    {
     "data": {
      "text/plain": [
       "{'created_at': 'Thu Apr 02 13:59:42 +0000 2020',\n",
       " 'id': 1245712513628622848,\n",
       " 'id_str': '1245712513628622848',\n",
       " 'full_text': 'This is mad 5g poles just popping up everywhere, now all of a sudden people just dropping down dead in the streets .. that ain’t corona or has it mutated already \\U0001f9d0\\U0001f928',\n",
       " 'truncated': False,\n",
       " 'display_text_range': [0, 164],\n",
       " 'entities': {'hashtags': [], 'symbols': [], 'user_mentions': [], 'urls': []},\n",
       " 'source': '<a href=\"http://twitter.com/download/iphone\" rel=\"nofollow\">Twitter for iPhone</a>',\n",
       " 'in_reply_to_status_id': None,\n",
       " 'in_reply_to_status_id_str': None,\n",
       " 'in_reply_to_user_id': None,\n",
       " 'in_reply_to_user_id_str': None,\n",
       " 'in_reply_to_screen_name': None,\n",
       " 'user': {'id': 118928874,\n",
       "  'id_str': '118928874',\n",
       "  'name': 'BowseyFX',\n",
       "  'screen_name': '5Star_Baller',\n",
       "  'location': 'England',\n",
       "  'description': 'just a squirrel tryna get a nut 💥💥',\n",
       "  'url': 'https://t.co/aAOgI8UbWv',\n",
       "  'entities': {'url': {'urls': [{'url': 'https://t.co/aAOgI8UbWv',\n",
       "      'expanded_url': 'https://en.m.wikipedia.org/wiki/Gary_Bowes',\n",
       "      'display_url': 'en.m.wikipedia.org/wiki/Gary_Bowes',\n",
       "      'indices': [0, 23]}]},\n",
       "   'description': {'urls': []}},\n",
       "  'protected': False,\n",
       "  'followers_count': 1332,\n",
       "  'friends_count': 536,\n",
       "  'listed_count': 4,\n",
       "  'created_at': 'Tue Mar 02 04:01:37 +0000 2010',\n",
       "  'favourites_count': 2447,\n",
       "  'utc_offset': None,\n",
       "  'time_zone': None,\n",
       "  'geo_enabled': True,\n",
       "  'verified': False,\n",
       "  'statuses_count': 48469,\n",
       "  'lang': None,\n",
       "  'contributors_enabled': False,\n",
       "  'is_translator': False,\n",
       "  'is_translation_enabled': False,\n",
       "  'profile_background_color': 'C0DEED',\n",
       "  'profile_background_image_url': 'http://abs.twimg.com/images/themes/theme1/bg.png',\n",
       "  'profile_background_image_url_https': 'https://abs.twimg.com/images/themes/theme1/bg.png',\n",
       "  'profile_background_tile': True,\n",
       "  'profile_image_url': 'http://pbs.twimg.com/profile_images/1273672769465712640/Y0GzTPxV_normal.jpg',\n",
       "  'profile_image_url_https': 'https://pbs.twimg.com/profile_images/1273672769465712640/Y0GzTPxV_normal.jpg',\n",
       "  'profile_banner_url': 'https://pbs.twimg.com/profile_banners/118928874/1446023949',\n",
       "  'profile_link_color': '0084B4',\n",
       "  'profile_sidebar_border_color': 'C0DEED',\n",
       "  'profile_sidebar_fill_color': 'DDEEF6',\n",
       "  'profile_text_color': '333333',\n",
       "  'profile_use_background_image': True,\n",
       "  'has_extended_profile': True,\n",
       "  'default_profile': False,\n",
       "  'default_profile_image': False,\n",
       "  'following': False,\n",
       "  'follow_request_sent': False,\n",
       "  'notifications': False,\n",
       "  'translator_type': 'none'},\n",
       " 'geo': None,\n",
       " 'coordinates': None,\n",
       " 'place': None,\n",
       " 'contributors': None,\n",
       " 'is_quote_status': False,\n",
       " 'retweet_count': 1,\n",
       " 'favorite_count': 0,\n",
       " 'favorited': False,\n",
       " 'retweeted': False,\n",
       " 'lang': 'en'}"
      ]
     },
     "execution_count": 43,
     "metadata": {},
     "output_type": "execute_result"
    }
   ],
   "source": [
    "corona_data[0]"
   ]
  },
  {
   "cell_type": "code",
   "execution_count": 47,
   "metadata": {},
   "outputs": [
    {
     "name": "stdout",
     "output_type": "stream",
     "text": [
      "1704.7457142857143\n"
     ]
    }
   ],
   "source": [
    "other_followers = np.array([other_data[i]['favorite_count'] for i in range(len(other_data))])\n",
    "print(np.mean(other_followers))"
   ]
  },
  {
   "cell_type": "code",
   "execution_count": 30,
   "metadata": {},
   "outputs": [
    {
     "data": {
      "text/plain": [
       "(array([1.122e+03, 6.000e+00, 0.000e+00, 1.000e+00, 0.000e+00, 0.000e+00,\n",
       "        0.000e+00, 0.000e+00, 0.000e+00, 1.000e+00]),\n",
       " array([      0. ,  281791.2,  563582.4,  845373.6, 1127164.8, 1408956. ,\n",
       "        1690747.2, 1972538.4, 2254329.6, 2536120.8, 2817912. ]),\n",
       " <a list of 10 Patch objects>)"
      ]
     },
     "execution_count": 30,
     "metadata": {},
     "output_type": "execute_result"
    },
    {
     "data": {
      "image/png": "[encoded data removed]",
      "text/plain": [
       "<Figure size 432x288 with 1 Axes>"
      ]
     },
     "metadata": {
      "needs_background": "light"
     },
     "output_type": "display_data"
    }
   ],
   "source": [
    "plt.hist(corona_followers)"
   ]
  },
  {
   "cell_type": "code",
   "execution_count": 34,
   "metadata": {},
   "outputs": [
    {
     "name": "stdout",
     "output_type": "stream",
     "text": [
      "641.5871075964534\n"
     ]
    }
   ],
   "source": [
    "non_followers = np.array([non_data[i]['retweet_count']for i in range(len(non_data))])\n",
    "print(np.mean(non_followers))"
   ]
  },
  {
   "cell_type": "code",
   "execution_count": 35,
   "metadata": {},
   "outputs": [
    {
     "name": "stdout",
     "output_type": "stream",
     "text": [
      "666.57\n"
     ]
    }
   ],
   "source": [
    "other_followers = np.array([other_data[i]['retweet_count'] for i in range(len(other_data))])\n",
    "print(np.mean(other_followers))"
   ]
  }
 ],
 "metadata": {
  "kernelspec": {
   "display_name": "Python 3",
   "language": "python",
   "name": "python3"
  },
  "language_info": {
   "codemirror_mode": {
    "name": "ipython",
    "version": 3
   },
   "file_extension": ".py",
   "mimetype": "text/x-python",
   "name": "python",
   "nbconvert_exporter": "python",
   "pygments_lexer": "ipython3",
   "version": "3.6.2"
  }
 },
 "nbformat": 4,
 "nbformat_minor": 2
}
